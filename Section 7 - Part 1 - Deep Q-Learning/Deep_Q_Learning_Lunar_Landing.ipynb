{
  "cells": [
    {
      "cell_type": "markdown",
      "metadata": {
        "id": "94apzd96zFBt"
      },
      "source": [
        "# Deep Q-Learning for Lunar Landing\n",
        "\n",
        "Please run in google colab"
      ]
    },
    {
      "cell_type": "markdown",
      "metadata": {
        "id": "Y6oyyh0xzQ89"
      },
      "source": [
        "### Install required packages"
      ]
    },
    {
      "cell_type": "code",
      "execution_count": null,
      "metadata": {
        "colab": {
          "base_uri": "https://localhost:8080/"
        },
        "id": "xWdF7rFWzb_1",
        "outputId": "84932ace-3f3c-42d5-fa5e-fa9c1562b063"
      },
      "outputs": [
        {
          "name": "stdout",
          "output_type": "stream",
          "text": [
            "Requirement already satisfied: gymnasium in /usr/local/lib/python3.12/dist-packages (1.2.0)\n",
            "Requirement already satisfied: numpy>=1.21.0 in /usr/local/lib/python3.12/dist-packages (from gymnasium) (2.0.2)\n",
            "Requirement already satisfied: cloudpickle>=1.2.0 in /usr/local/lib/python3.12/dist-packages (from gymnasium) (3.1.1)\n",
            "Requirement already satisfied: typing-extensions>=4.3.0 in /usr/local/lib/python3.12/dist-packages (from gymnasium) (4.15.0)\n",
            "Requirement already satisfied: farama-notifications>=0.0.1 in /usr/local/lib/python3.12/dist-packages (from gymnasium) (0.0.4)\n",
            "Requirement already satisfied: gymnasium[accept-rom-license,atari] in /usr/local/lib/python3.12/dist-packages (1.2.0)\n",
            "\u001b[33mWARNING: gymnasium 1.2.0 does not provide the extra 'accept-rom-license'\u001b[0m\u001b[33m\n",
            "\u001b[0mRequirement already satisfied: numpy>=1.21.0 in /usr/local/lib/python3.12/dist-packages (from gymnasium[accept-rom-license,atari]) (2.0.2)\n",
            "Requirement already satisfied: cloudpickle>=1.2.0 in /usr/local/lib/python3.12/dist-packages (from gymnasium[accept-rom-license,atari]) (3.1.1)\n",
            "Requirement already satisfied: typing-extensions>=4.3.0 in /usr/local/lib/python3.12/dist-packages (from gymnasium[accept-rom-license,atari]) (4.15.0)\n",
            "Requirement already satisfied: farama-notifications>=0.0.1 in /usr/local/lib/python3.12/dist-packages (from gymnasium[accept-rom-license,atari]) (0.0.4)\n",
            "Requirement already satisfied: ale_py>=0.9 in /usr/local/lib/python3.12/dist-packages (from gymnasium[accept-rom-license,atari]) (0.11.2)\n",
            "Reading package lists... Done\n",
            "Building dependency tree... Done\n",
            "Reading state information... Done\n",
            "swig is already the newest version (4.0.2-1ubuntu1).\n",
            "0 upgraded, 0 newly installed, 0 to remove and 35 not upgraded.\n",
            "Requirement already satisfied: gymnasium[box2d] in /usr/local/lib/python3.12/dist-packages (1.2.0)\n",
            "Requirement already satisfied: numpy>=1.21.0 in /usr/local/lib/python3.12/dist-packages (from gymnasium[box2d]) (2.0.2)\n",
            "Requirement already satisfied: cloudpickle>=1.2.0 in /usr/local/lib/python3.12/dist-packages (from gymnasium[box2d]) (3.1.1)\n",
            "Requirement already satisfied: typing-extensions>=4.3.0 in /usr/local/lib/python3.12/dist-packages (from gymnasium[box2d]) (4.15.0)\n",
            "Requirement already satisfied: farama-notifications>=0.0.1 in /usr/local/lib/python3.12/dist-packages (from gymnasium[box2d]) (0.0.4)\n",
            "Requirement already satisfied: box2d-py==2.3.5 in /usr/local/lib/python3.12/dist-packages (from gymnasium[box2d]) (2.3.5)\n",
            "Requirement already satisfied: pygame>=2.1.3 in /usr/local/lib/python3.12/dist-packages (from gymnasium[box2d]) (2.6.1)\n",
            "Requirement already satisfied: swig==4.* in /usr/local/lib/python3.12/dist-packages (from gymnasium[box2d]) (4.3.1.post0)\n"
          ]
        }
      ],
      "source": [
        "#!pip install gymnasium\n",
        "#!pip install \"gymnasium[atari, accept-rom-license]\"\n",
        "#!apt-get install -y swig\n",
        "#!pip install gymnasium[box2d]\n",
        "#!pip install ipython\n",
        "#!pip install torch\n",
        "#!pip install imageio"
      ]
    },
    {
      "cell_type": "markdown",
      "metadata": {
        "id": "aJznFhVY1SMG"
      },
      "source": [
        "### Import Libraries"
      ]
    },
    {
      "cell_type": "code",
      "execution_count": null,
      "metadata": {
        "id": "emOAQd051YGs"
      },
      "outputs": [],
      "source": [
        "import random # For random action selection\n",
        "import numpy as np # Handle arrays\n",
        "import torch # PyTorch library\n",
        "import torch.nn as nn # Define network layers\n",
        "import torch.optim as optim # For optimizers like Adam\n",
        "import torch.nn.functional as F # For activation functions like ReLU, mse_loss\n",
        "from collections import deque # Used for the replay buffer (with maxlen) and tracking last 100 scores.\n",
        "import gymnasium as gym # Interface with LunarLander-v3 environment\n",
        "import imageio # Saves list of frames as .mp4.\n",
        "import glob # Finds saved video files..\n",
        "import io # Reads video for inline display.\n",
        "import base64 # Encodes video for inline display.\n",
        "from IPython.display import HTML # Displays the video in the notebook."
      ]
    },
    {
      "cell_type": "markdown",
      "metadata": {
        "id": "Yu6mhYmt1ya2"
      },
      "source": [
        "### Creating the Network class"
      ]
    },
    {
      "cell_type": "code",
      "execution_count": null,
      "metadata": {
        "id": "C4UvGUvI16xt"
      },
      "outputs": [],
      "source": [
        "class Network(nn.Module):\n",
        "    def __init__(self, state_size, action_size, seed=42):\n",
        "        \"\"\"\n",
        "        🧠 THE AGENT’S BRAIN — A SIMPLE NEURAL NETWORK TO PREDICT ACTION VALUES (Q-VALUES)\n",
        "\n",
        "        This network takes in the current state (e.g., position, velocity, angle, leg contact, etc.)\n",
        "        and outputs a Q-value for each possible action — “how good is each action from this state?”\n",
        "\n",
        "        Think of it like a scoring system:\n",
        "          Input: “What’s happening right now?” → Output: “Score for doing nothing, left thrust, right thrust, main engine”\n",
        "\n",
        "        Parameters:\n",
        "          state_size  → number of inputs (how many numbers describe the environment)\n",
        "          action_size → number of outputs (how many actions the agent can choose from)\n",
        "          seed        → random seed for reproducibility (so your results are the same each time you train)\n",
        "        \"\"\"\n",
        "\n",
        "        # Initialize parent class (nn.Module) — this gives us PyTorch neural network superpowers.\n",
        "        super(Network, self).__init__()\n",
        "\n",
        "        # 🎲 SET RANDOM SEED — so weight initialization is the same every time (helps with debugging and fair comparisons).\n",
        "        self.seed = torch.manual_seed(seed)\n",
        "\n",
        "        # 🧱 FIRST LAYER: Connects input state to 64 hidden neurons.\n",
        "        # Example: LunarLander state_size=8 → this layer has 8 inputs, 64 outputs.\n",
        "        self.fc1 = nn.Linear(state_size, 64)\n",
        "\n",
        "        # 🧱 SECOND LAYER: 64 neurons → 64 neurons (keeps hidden representation rich).\n",
        "        self.fc2 = nn.Linear(64, 64)\n",
        "\n",
        "        # 🎯 OUTPUT LAYER: 64 neurons → action_size outputs (one Q-value per action).\n",
        "        # Example: LunarLander action_size=4 → outputs 4 numbers: Q-values for each action.\n",
        "        self.fc3 = nn.Linear(64, action_size)\n",
        "\n",
        "\n",
        "    def forward(self, state):\n",
        "        \"\"\"\n",
        "        🔄 FORWARD PASS — “THINKING” THROUGH THE NETWORK\n",
        "\n",
        "        Given a state (or batch of states), compute the Q-values for all actions.\n",
        "\n",
        "        Flow:\n",
        "          state → [Layer 1 + ReLU] → [Layer 2 + ReLU] → [Layer 3] → Q-values\n",
        "\n",
        "        ReLU (Rectified Linear Unit) = “If negative, make it zero. If positive, leave it.”\n",
        "        → Helps network learn non-linear patterns without vanishing gradients.\n",
        "\n",
        "        Returns:\n",
        "          Tensor of shape (batch_size, action_size) — predicted Q-value for each action.\n",
        "        \"\"\"\n",
        "\n",
        "        # ➡️ Pass state through first layer, then apply ReLU activation (introduces non-linearity).\n",
        "        x = F.relu(self.fc1(state))\n",
        "\n",
        "        # ➡️ Pass through second layer + ReLU.\n",
        "        x = F.relu(self.fc2(x))\n",
        "\n",
        "        # ➡️ Pass through final layer — NO activation (we want raw Q-values, positive or negative).\n",
        "        return self.fc3(x)\n"
      ]
    },
    {
      "cell_type": "markdown",
      "metadata": {
        "id": "icMFoBy92ypu"
      },
      "source": [
        "### Training the AI"
      ]
    },
    {
      "cell_type": "markdown",
      "metadata": {
        "id": "SVbiTfYlK-X7"
      },
      "source": [
        "### Setting up the environment"
      ]
    },
    {
      "cell_type": "code",
      "execution_count": null,
      "metadata": {
        "colab": {
          "base_uri": "https://localhost:8080/"
        },
        "id": "Ye-00hdPLgNL",
        "outputId": "fed13c5a-00a4-47a8-b979-9597ca4b784a"
      },
      "outputs": [
        {
          "name": "stdout",
          "output_type": "stream",
          "text": [
            "State shape:  (8,)\n",
            "State size:  8\n",
            "Number of actions:  4\n"
          ]
        }
      ],
      "source": [
        "# Initialize the Lunar Lander environment in interactive rendering mode.\n",
        "# 'LunarLander-v3' is the latest official version, featuring:\n",
        "#   - Fixed non-determinism (resets wind/turbulence seed on each reset)\n",
        "#   - Expanded observation bounds (x, y: ±2.5; velocities: ±10; angle: ±2π)\n",
        "#   - Statistical independence between episodes\n",
        "# render_mode=\"human\" opens a window to visually observe the agent (ideal for final evaluation/demo).\n",
        "env = gym.make('LunarLander-v3', render_mode=\"human\")\n",
        "\n",
        "# Extract observation space details.\n",
        "# According to documentation, the state is an 8-dimensional vector containing:\n",
        "#   [x, y, velocity_x, velocity_y, angle, angular_velocity, leg1_contact, leg2_contact]\n",
        "state_shape = env.observation_space.shape  # Returns (8,) — the shape of the state vector.\n",
        "state_size = env.observation_space.shape[0]  # Returns 8 — the number of state variables.\n",
        "\n",
        "# Extract action space details.\n",
        "# The environment has 4 discrete actions:\n",
        "#   0: do nothing\n",
        "#   1: fire left orientation engine\n",
        "#   2: fire main engine\n",
        "#   3: fire right orientation engine\n",
        "number_actions = env.action_space.n  # Returns 4.\n",
        "\n",
        "# Print environment dimensions for verification and debugging.\n",
        "print('State shape: ', state_shape)      # Output: (8,)\n",
        "print('State size: ', state_size)        # Output: 8\n",
        "print('Number of actions: ', number_actions)  # Output: 4"
      ]
    },
    {
      "cell_type": "markdown",
      "metadata": {
        "id": "nUF6kNtTMfTh"
      },
      "source": [
        "### Initializing the hyper parameters"
      ]
    },
    {
      "cell_type": "code",
      "execution_count": 15,
      "metadata": {
        "id": "8GlfuLBlMccZ"
      },
      "outputs": [],
      "source": [
        "learning_rate = 5e-4 # best value taken after lot's of experimentation\n",
        "minibatch_size = 100 # number of observations used in 1 step of training to update the model parameters\n",
        "discount_factor = 0.99 # gamma parameter\n",
        "# discount factor represents the present value of future rewards\n",
        "# low discount value close to 0 (0.01) - makes agent short sighted\n",
        "# high discount value close to 1 (0.99) - makes agent consider the future rewards in its accumulation of future rewards - giving best performance\n",
        "\n",
        "replay_buffer_size = int(1e5) # replay buffer- stores number of experiences - including state, action reward, next state and whether done or not in the memory of agent\n",
        "# purpose is to stabilize and improve training process\n",
        "interpolation_parameter = 1e-3 # often denoted by the Greek letter tau (τ), that represents a time threshold or duration for considering a state-action pair as unvisited for a long time, influencing exploration - used in the sub update of target networks - best value after lot's of experimentation"
      ]
    },
    {
      "cell_type": "markdown",
      "metadata": {
        "id": "KYiSMgqjQ4Qz"
      },
      "source": [
        "### implementing experience replay"
      ]
    },
    {
      "cell_type": "code",
      "execution_count": 16,
      "metadata": {
        "id": "4RYfFBGoQ8GM"
      },
      "outputs": [],
      "source": [
        "class ReplayMemory(object):\n",
        "    def __init__(self, capacity):\n",
        "        \"\"\"\n",
        "        🧠 MEMORY NOTEBOOK — STORES PAST EXPERIENCES FOR LATER LEARNING\n",
        "\n",
        "        Think of this as the agent’s diary — it writes down everything it experiences\n",
        "        (state, action, reward, next_state, done) and later flips back through pages\n",
        "        to study random moments. This breaks the sequence of events and helps learning\n",
        "        become more stable and less biased.\n",
        "\n",
        "        Parameters:\n",
        "          capacity → how many experiences it can remember before forgetting the oldest ones\n",
        "        \"\"\"\n",
        "\n",
        "        # Set device (GPU if available, otherwise CPU) — we’ll convert stored data to tensors on this device later.\n",
        "        # ⚠️ TYPO FIXED: was \"cud:0\" → corrected to \"cuda:0\"\n",
        "        self.device = torch.device(\"cuda:0\" if torch.cuda.is_available() else \"cpu\")\n",
        "\n",
        "        # Maximum number of experiences we can store — like the number of pages in the diary.\n",
        "        self.capacity = capacity\n",
        "\n",
        "        # The actual list where we store experiences — each experience is a tuple: (state, action, reward, next_state, done)\n",
        "        self.memory = []\n",
        "\n",
        "\n",
        "    def push(self, event):\n",
        "        \"\"\"\n",
        "        📥 SAVE A NEW EXPERIENCE INTO MEMORY\n",
        "\n",
        "        When the agent does something, we record what happened and store it.\n",
        "        If memory is full, we forget the oldest experience (like a sliding window).\n",
        "        \"\"\"\n",
        "\n",
        "        # Add the new experience (event) to the end of the memory list.\n",
        "        self.memory.append(event)\n",
        "\n",
        "        # If we’ve exceeded capacity, delete the oldest experience (the one at index 0).\n",
        "        if len(self.memory) > self.capacity:\n",
        "            del self.memory[0]\n",
        "\n",
        "\n",
        "    def sample(self, batch_size):\n",
        "        \"\"\"\n",
        "        🎲 RANDOMLY PICK A BATCH OF EXPERIENCES TO LEARN FROM\n",
        "\n",
        "        Instead of learning in order (which can create bias), we randomly pick\n",
        "        a bunch of past experiences — like shuffling flashcards before studying.\n",
        "        Then we convert them into PyTorch tensors ready for the neural network.\n",
        "\n",
        "        Returns:\n",
        "          A tuple of tensors: (states, next_states, actions, rewards, dones)\n",
        "          — all moved to the correct device (CPU or GPU)\n",
        "        \"\"\"\n",
        "\n",
        "        # Randomly pick `batch_size` experiences from memory — this breaks correlation between consecutive steps.\n",
        "        experiences = random.sample(self.memory, batch_size)\n",
        "\n",
        "        # 🔽 CONVERT EACH PART OF THE EXPERIENCES INTO TENSORS 🔽\n",
        "\n",
        "        # 📍 STATES: Stack all 'state' arrays vertically → shape (batch_size, state_size)\n",
        "        # Convert to numpy → then to float tensor → send to device (GPU/CPU)\n",
        "        states = torch.from_numpy(\n",
        "            np.vstack([e[0] for e in experiences if e is not None])  # e[0] = state\n",
        "        ).float().to(self.device)\n",
        "\n",
        "        # 🎯 NEXT_STATES: Same as states, but for the state AFTER the action\n",
        "        next_states = torch.from_numpy(\n",
        "            np.vstack([e[3] for e in experiences if e is not None])  # e[3] = next_state\n",
        "        ).float().to(self.device)\n",
        "\n",
        "        # 🕹 ACTIONS: Stack action indices (usually integers) → convert to long tensor (required for .gather later)\n",
        "        actions = torch.from_numpy(\n",
        "            np.vstack([e[1] for e in experiences if e is not None])  # e[1] = action\n",
        "        ).long().to(self.device)\n",
        "\n",
        "        # 💰 REWARDS: Stack reward values → usually floats\n",
        "        rewards = torch.from_numpy(\n",
        "            np.vstack([e[2] for e in experiences if e is not None])  # e[2] = reward\n",
        "        ).float().to(self.device)\n",
        "\n",
        "        # 🚫 DONES: Stack “done” flags (True/False) → convert to 0/1 (uint8), then to float for math\n",
        "        dones = torch.from_numpy(\n",
        "            np.vstack([e[4] for e in experiences if e is not None]).astype(np.uint8)  # e[4] = done\n",
        "        ).float().to(self.device)\n",
        "\n",
        "        # ✅ RETURN THE BATCH AS A TUPLE OF TENSORS — READY FOR .learn()!\n",
        "        return (states, next_states, actions, rewards, dones)"
      ]
    },
    {
      "cell_type": "markdown",
      "metadata": {
        "id": "SEZuz8ecrjD-"
      },
      "source": [
        "### implementing the DQN class\n",
        "\n",
        "🧠 KEY CONCEPTS:\n",
        "\n",
        "- local_qnetwork → The “current brain” of the agent. It’s learning actively.\n",
        "- target_qnetwork → A slightly older, more stable copy of the brain. Used to calculate targets so learning doesn’t go crazy.\n",
        "- experiences → A batch of past memories: what state the agent was in, what it did, what reward it got, what state it ended up in, and whether the episode ended (dones).\n",
        "- discount_factor → How much the agent cares about future rewards (e.g., 0.99 = cares a lot; 0.5 = only cares about immediate rewards)."
      ]
    },
    {
      "cell_type": "code",
      "execution_count": 17,
      "metadata": {
        "id": "5KzjpBo_rnWQ"
      },
      "outputs": [],
      "source": [
        "class Agent():\n",
        "    def __init__(self, state_size, action_size):\n",
        "        \"\"\"\n",
        "        👶 INITIALIZATION — SETTING UP THE AGENT’S BRAIN AND TOOLS\n",
        "\n",
        "        Think of this as the agent’s “birth” — we give it:\n",
        "        - A brain (neural networks)\n",
        "        - Memory (to store experiences)\n",
        "        - Tools to learn (optimizer)\n",
        "        - A counter to track when to learn\n",
        "\n",
        "        Parameters:\n",
        "          state_size → how many numbers describe the environment (e.g., position, velocity, angle, leg contact, etc.)\n",
        "          action_size → how many possible actions the agent can take (e.g., 4 in LunarLander: do nothing, left, right, main engine)\n",
        "        \"\"\"\n",
        "\n",
        "        # Store how big the state and action spaces are — the agent needs to know this to build its brain.\n",
        "        self.state_size = state_size\n",
        "        self.action_size = action_size\n",
        "\n",
        "        # Decide whether to run on GPU (fast) or CPU (slow but works everywhere).\n",
        "        # If you have a CUDA-compatible GPU, it’ll use that. Otherwise, fallback to CPU.\n",
        "        self.device = torch.device(\"cuda:0\" if torch.cuda.is_available() else \"cpu\")\n",
        "\n",
        "        # 🧠 LOCAL Q-NETWORK: The “student” brain — actively learning from experiences.\n",
        "        # It predicts Q-values: “If I take this action in this state, how good will my future be?”\n",
        "        self.local_qnetwork = Network(state_size, action_size).to(self.device)\n",
        "\n",
        "        # 🧠 TARGET Q-NETWORK: The “teacher” brain — a stable version of the student.\n",
        "        # Used to generate learning targets so the student doesn’t chase its own tail.\n",
        "        self.target_qnetwork = Network(state_size, action_size).to(self.device)\n",
        "\n",
        "        # 🧰 OPTIMIZER: The tool that adjusts the student brain’s weights to reduce prediction errors.\n",
        "        # We use Adam — a popular, adaptive optimizer that works well for deep learning.\n",
        "        self.optimizer = optim.Adam(self.local_qnetwork.parameters(), lr=learning_rate)\n",
        "\n",
        "        # 🧠 MEMORY: A “diary” of past experiences (state, action, reward, next_state, done).\n",
        "        # We store them and later sample random batches to learn from — this breaks correlation and stabilizes learning.\n",
        "        self.replayMemory = ReplayMemory(replay_buffer_size)\n",
        "\n",
        "        # 🕐 STEP COUNTER: Tracks how many steps we’ve taken.\n",
        "        # We’ll use this to decide when to pause and learn (e.g., every 4 steps).\n",
        "        self.t_step = 0\n",
        "\n",
        "\n",
        "    def step(self, state, action, reward, next_state, done):\n",
        "        \"\"\"\n",
        "        📝 RECORD EXPERIENCE & DECIDE WHEN TO LEARN\n",
        "\n",
        "        Every time the agent takes an action, we:\n",
        "        - Save what happened (experience) into memory\n",
        "        - Occasionally (e.g., every 4 steps), if we have enough memories, we sample a batch and learn from it\n",
        "        \"\"\"\n",
        "\n",
        "        # Save this experience (state, action, reward, next_state, done) into the replay memory.\n",
        "        self.replayMemory.push((state, action, reward, next_state, done))  # ← FIXED: was self.memory\n",
        "\n",
        "        # Increment step counter, reset to 0 every 4 steps → triggers learning every 4 steps.\n",
        "        self.t_step = (self.t_step + 1) % 4\n",
        "\n",
        "        # If it’s time to learn (every 4 steps) AND we have enough memories to sample a batch...\n",
        "        if self.t_step == 0:\n",
        "            if len(self.replayMemory.memory) > minibatch_size:\n",
        "                # Randomly sample a batch of past experiences.\n",
        "                experiences = self.replayMemory.sample(minibatch_size)\n",
        "                # Learn from them!\n",
        "                self.learn(experiences, discount_factor)\n",
        "\n",
        "\n",
        "    def act(self, state, epsilon=0.):\n",
        "        \"\"\"\n",
        "        🎮 DECIDE WHAT ACTION TO TAKE RIGHT NOW\n",
        "\n",
        "        Given the current state (what the agent sees), choose an action using:\n",
        "        - EXPLOITATION: Pick the best-known action (according to current brain)\n",
        "        - EXPLORATION: Sometimes pick a random action (to discover better strategies)\n",
        "\n",
        "        Epsilon controls the balance:\n",
        "          - epsilon = 1.0 → always random (full exploration)\n",
        "          - epsilon = 0.0 → always pick best action (full exploitation)\n",
        "          - epsilon = 0.1 → 10% random, 90% smart\n",
        "\n",
        "        This is called “epsilon-greedy” strategy.\n",
        "        \"\"\"\n",
        "\n",
        "        # Convert numpy state (from environment) into a PyTorch tensor, add batch dimension, and send to device (CPU/GPU).\n",
        "        state = torch.from_numpy(state).float().unsqueeze(0).to(self.device)\n",
        "\n",
        "        # Temporarily switch the local Q-network to evaluation mode (disables dropout, batchnorm, etc. if used).\n",
        "        self.local_qnetwork.eval()\n",
        "\n",
        "        # Disable gradient calculation — we’re not learning right now, just predicting.\n",
        "        with torch.no_grad():\n",
        "            # Get Q-values for all possible actions in this state.\n",
        "            action_values = self.local_qnetwork(state)\n",
        "\n",
        "        # Switch the network back to training mode (in case we use layers like dropout or batchnorm).\n",
        "        self.local_qnetwork.train()\n",
        "\n",
        "        # 🎲 EPSILON-GREEDY DECISION:\n",
        "        # If a random number is greater than epsilon → exploit (pick best action)\n",
        "        if random.random() > epsilon:\n",
        "            # Convert tensor to numpy, extract raw numbers, pick action with highest Q-value.\n",
        "            return np.argmax(action_values.cpu().data.numpy())\n",
        "        else:\n",
        "            # Explore: pick a random action (helps discover new strategies).\n",
        "            return random.choice(np.arange(self.action_size))\n",
        "\n",
        "\n",
        "    def learn(self, experiences, discount_factor):\n",
        "        # “Open up the batch of memories and separate them into their parts.”\n",
        "        # states = what the lander saw before taking action (position, velocity, angle, etc.)\n",
        "        # actions = what it did (fire left engine, right engine, main engine, or do nothing)\n",
        "        # rewards = what it got for doing that (e.g., +100 for landing, -100 for crashing)\n",
        "        # next_states = what the lander saw after taking the action\n",
        "        # dones = whether the episode ended after that step (1 = yes, 0 = no)\n",
        "        states, next_states, actions, rewards, dones = experiences\n",
        "\n",
        "        # “Ask the target brain: In the next state, what’s the best possible action and its expected future reward?”\n",
        "        # self.target_qnetwork(next_states) → Feed all the “next states” into the target network. It outputs Q-values for each possible action (e.g., 4 actions → 4 numbers per state).\n",
        "        # .detach() → “Don’t track gradients here.” We’re using this for a target, not for learning right now.\n",
        "        # .max(1)[0] → For each state, pick the maximum Q-value across all actions → this is the best expected future reward from that state.\n",
        "        # .unsqueeze(1) → Add an extra dimension so the shape matches other tensors (e.g., turns shape (batch,) → (batch, 1)).\n",
        "        # 👉 So Q_targets_next = best estimated future reward from the next state,\n",
        "        # according to the stable target network.\n",
        "        Q_targets_next = self.target_qnetwork(next_states).detach().max(1)[0].unsqueeze(1)\n",
        "\n",
        "        #  “Calculate what the total expected reward should be: immediate reward + discounted future reward — but only if the episode didn’t end.”\n",
        "        # If the episode ended (dones = 1), then (1 - dones) = 0, so future reward is ignored → makes sense! No future after game over.\n",
        "        # If not ended (dones = 0), then we add discount_factor * Q_targets_next → future reward matters.\n",
        "        # 👉 This is the target Q-value — what we want our current network to\n",
        "        # predict for the state-action pair.\n",
        "        Q_targets = rewards + (discount_factor * Q_targets_next * (1 - dones))\n",
        "\n",
        "        # “Ask the current brain: What did you predict the Q-value would be for the action we actually took?”\n",
        "        # self.local_qnetwork(states) → current network predicts Q-values for all actions in each state.\n",
        "        # .gather(1, actions) → picks out only the Q-value for the action that was actually taken in each experience.\n",
        "        # 👉 This is the predicted Q-value — what the agent thought would\n",
        "        # happen.\n",
        "        Q_expected = self.local_qnetwork(states).gather(1, actions)\n",
        "\n",
        "        # “Compare what the agent predicted vs. what it should have predicted. The bigger the difference, the worse it did.”\n",
        "        # F.mse_loss = Mean Squared Error → average of (predicted - target)²\n",
        "        # We want to minimize this → make predictions match targets.\n",
        "        loss = F.mse_loss(Q_expected, Q_targets)\n",
        "\n",
        "        # “Clear any old gradient info before calculating new ones.”\n",
        "        # Gradients accumulate by default in PyTorch. We reset them to avoid mixing\n",
        "        # up old and new learning signals.\n",
        "        self.optimizer.zero_grad()\n",
        "\n",
        "        # “Calculate how each weight in the network contributed to the error, so we know how to fix it.”\n",
        "        # This is backpropagation — computes gradients of the loss with respect to all network parameters.\n",
        "        loss.backward()\n",
        "\n",
        "        # “Actually update the weights of the current brain to reduce the error.”\n",
        "        # This takes a small step in the direction that reduces loss — i.e., makes predictions more accurate.\n",
        "        self.optimizer.step()\n",
        "\n",
        "        # “Gently nudge the target brain to be a little more like the current brain — but don’t copy it fully.”\n",
        "        # soft_update usually looks like:\n",
        "        #   target_weights = τ * local_weights + (1 - τ) * target_weights\n",
        "        #   where τ (tau) is a small number like 0.001 → very slow updates.\n",
        "        # 💡 Why? Because if the target network changed too fast, learning would\n",
        "        # be unstable (like chasing a moving target). Soft updates keep it stable.\n",
        "        self.soft_update(self.local_qnetwork, self.target_qnetwork, interpolation_parameter)\n",
        "\n",
        "    def soft_update(self, local_model, target_model, interpolation_parameter):\n",
        "      \"\"\"\n",
        "      interpolation_parameter = τ (tau)\n",
        "      Soft update model parameters.\n",
        "      θ_target = τ * θ_local + (1 - τ) * θ_target\n",
        "\n",
        "      local_model: PyTorch model — weights will be copied from\n",
        "      target_model: PyTorch model — weights will be copied to\n",
        "      tau (float): interpolation parameter (e.g., 0.001)\n",
        "      \"\"\"\n",
        "      for target_param, local_param in zip(target_model.parameters(), local_model.parameters()):\n",
        "          # called Polyak averaging or exponential moving average, and it’s used all over deep RL (DQN, DDPG, SAC, etc.).\n",
        "          #   tau = 0.001 → very slow update (used in DDPG, SAC)\n",
        "          #   tau = 0.01 or 0.005 → moderate (common in DQN variants)\n",
        "          #   tau = 1.0 → full copy (hard update — not recommended for stability)\n",
        "          # .copy_: “Take the result of that weighted average and overwrite the target network’s weight with it — but in-place, without breaking the tensor connection.”\n",
        "          # target_param = new_value\n",
        "          # ❌ WRONG — breaks the model!\n",
        "          #   it won’t update the actual network — it just reassigns the variable. You need to update the contents of the tensor, not the variable itself.\n",
        "          # This line gently pulls the target network’s weights a tiny bit closer to the local network’s weights — keeping learning stable by avoiding sudden changes in the learning target.\n",
        "          target_param.data.copy_(interpolation_parameter * local_param.data + (1.0 - interpolation_parameter) * target_param.data)\n"
      ]
    },
    {
      "cell_type": "markdown",
      "metadata": {
        "id": "33VTNykzkhqh"
      },
      "source": [
        "### Initializing the DQN network"
      ]
    },
    {
      "cell_type": "code",
      "execution_count": 18,
      "metadata": {
        "id": "kijtIQ_fklcZ"
      },
      "outputs": [],
      "source": [
        "agent = Agent(state_size, number_actions)"
      ]
    },
    {
      "cell_type": "markdown",
      "metadata": {
        "id": "DqEIkr4zllzR"
      },
      "source": [
        "### Training the DQN agent"
      ]
    },
    {
      "cell_type": "code",
      "execution_count": null,
      "metadata": {
        "colab": {
          "base_uri": "https://localhost:8080/"
        },
        "id": "TpT7_4TOmU71",
        "outputId": "524b6131-bf0c-4c9b-d6e0-0e3b458ec89c"
      },
      "outputs": [
        {
          "name": "stdout",
          "output_type": "stream",
          "text": [
            "Episode 100\tAverage Score: -154.66\n",
            "Episode 200\tAverage Score: -102.64\n",
            "Episode 300\tAverage Score: -33.56\n",
            "Episode 400\tAverage Score: -16.73\n",
            "Episode 500\tAverage Score: 75.92\n",
            "Episode 600\tAverage Score: 194.08\n",
            "Episode 633\tAverage Score: 200.65\n",
            "Environment solved in 533 episodes!\tAverage Score: 200.65"
          ]
        }
      ],
      "source": [
        "# Define training hyperparameters.\n",
        "number_episodes = 2000  # Maximum number of episodes to train for.\n",
        "maximum_number_timesteps_per_episode = 1000  # Max steps per episode (prevents infinite loops).\n",
        "epsilon_starting_value = 1.0  # Start with full exploration (random actions).\n",
        "epsilon_ending_value = 0.01  # Minimum exploration rate (nearly always exploit learned policy).\n",
        "epsilon_decay_value = 0.995  # Decay rate per episode: ε = ε * 0.995 → slow, smooth decay.\n",
        "epsilon = epsilon_starting_value  # Initialize epsilon.\n",
        "# Track scores over the last 100 episodes to monitor if environment is \"solved\" (avg ≥ 200.0).\n",
        "scores_on_100_episodes = deque(maxlen=100)\n",
        "\n",
        "# Main training loop.\n",
        "for episode in range(1, number_episodes + 1):\n",
        "    # Reset environment at start of each episode.\n",
        "    # Returns initial state and an info dict (ignored here with `_`).\n",
        "    state, _ = env.reset()\n",
        "    score = 0  # Cumulative reward for this episode.\n",
        "\n",
        "    # Step through the environment for up to `maximum_number_timesteps_per_episode`.\n",
        "    for t in range(maximum_number_timesteps_per_episode):\n",
        "        # Select action using epsilon-greedy policy.\n",
        "        # `agent.act(state, epsilon)` returns an integer in [0, 3]:\n",
        "        #   0: do nothing\n",
        "        #   1: fire left orientation engine\n",
        "        #   2: fire main engine\n",
        "        #   3: fire right orientation engine\n",
        "        action = agent.act(state, epsilon)\n",
        "        \n",
        "        # Execute action in environment.\n",
        "        # Returns:\n",
        "        #   next_state: 8D vector [x, y, vx, vy, angle, angular_vel, leg1_contact, leg2_contact]\n",
        "        #   reward:     Shaped reward (see below)\n",
        "        #   done:       Boolean — True if episode terminated (crash, out-of-bounds, or asleep)\n",
        "        #   _:          Truncated flag (for time limits — not used here)\n",
        "        #   _:          Info dict (ignored)\n",
        "        next_state, reward, done, _, _ = env.step(action)\n",
        "        \n",
        "        # Pass experience (S, A, R, S', done) to agent for learning.\n",
        "        # This typically stores the transition in replay buffer and may trigger a learning update.\n",
        "        agent.step(state, action, reward, next_state, done)\n",
        "        \n",
        "        # Update state for next iteration.\n",
        "        state = next_state\n",
        "        # Accumulate reward for this episode.\n",
        "        # Reward components (per step):\n",
        "        #   + Closer to pad (x=0, y=0) → higher reward\n",
        "        #   + Slower velocity → higher reward\n",
        "        #   + Less tilt (angle near 0) → higher reward\n",
        "        #   + Each leg contact → +10 points\n",
        "        #   - Firing side engine → -0.03 points/frame\n",
        "        #   - Firing main engine → -0.3 points/frame\n",
        "        #   +100 for safe landing, -100 for crash (applied on final step when done=True)\n",
        "        score += reward\n",
        "        \n",
        "        # If episode terminated (crashed, landed, or out of bounds), exit inner loop.\n",
        "        if done:\n",
        "            break\n",
        "\n",
        "    # Record episode score for averaging.\n",
        "    scores_on_100_episodes.append(score)\n",
        "    # Decay epsilon — reduce randomness over time to exploit learned policy.\n",
        "    epsilon = max(epsilon_ending_value, epsilon_decay_value * epsilon)\n",
        "\n",
        "    # Print progress on same line (overwrites previous output).\n",
        "    print('\\rEpisode {}\\tAverage Score: {:.2f}'.format(episode, np.mean(scores_on_100_episodes)), end=\"\")\n",
        "\n",
        "    # Every 100 episodes, print a full line (for logging/history).\n",
        "    if episode % 100 == 0:\n",
        "        print('\\rEpisode {}\\tAverage Score: {:.2f}'.format(episode, np.mean(scores_on_100_episodes)))\n",
        "\n",
        "    # Check if environment is \"solved\": average score over last 100 episodes ≥ 200.0.\n",
        "    # According to documentation: \"An episode is considered a solution if it scores at least 200 points.\"\n",
        "    if np.mean(scores_on_100_episodes) >= 200.0:\n",
        "        # Print success message: solved in the last 100 episodes.\n",
        "        print('\\nEnvironment solved in {:d} episodes!\\tAverage Score: {:.2f}'.format(episode-100, np.mean(scores_on_100_episodes)), end=\"\")\n",
        "        # Save model weights for later use or evaluation.\n",
        "        torch.save(agent.local_qnetwork.state_dict(), 'checkpoint.pth')\n",
        "        # Exit training loop early.\n",
        "        break"
      ]
    },
    {
      "cell_type": "code",
      "execution_count": null,
      "metadata": {
        "colab": {
          "base_uri": "https://localhost:8080/",
          "height": 459
        },
        "id": "cKZDtK-FjX1r",
        "outputId": "a522f173-01cf-4577-e292-67482b213f71"
      },
      "outputs": [
        {
          "name": "stderr",
          "output_type": "stream",
          "text": [
            "WARNING:imageio_ffmpeg:IMAGEIO FFMPEG_WRITER WARNING: input image is not divisible by macro_block_size=16, resizing from (600, 400) to (608, 400) to ensure video compatibility with most codecs and players. To prevent resizing, make your input image divisible by the macro_block_size or set the macro_block_size to 1 (risking incompatibility).\n"
          ]
        },
        {
          "data": {
            "text/html": [
              "<video alt=\"test\" autoplay\n",
              "                loop controls style=\"height: 400px;\">\n",
              "                <source src=\"data:video/mp4;base64,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\" type=\"video/mp4\" />\n",
              "             </video>"
            ],
            "text/plain": [
              "<IPython.core.display.HTML object>"
            ]
          },
          "metadata": {},
          "output_type": "display_data"
        }
      ],
      "source": [
        "def show_video_of_model(agent, env_name):\n",
        "    \"\"\"\n",
        "    Records and saves a video of the trained agent interacting with the environment.\n",
        "    \n",
        "    According to the LunarLander-v3 documentation:\n",
        "    - The agent receives an 8D state vector: [x, y, vx, vy, angle, angular_vel, leg1_contact, leg2_contact]\n",
        "    - Actions are discrete: 0=do nothing, 1=left engine, 2=main engine, 3=right engine\n",
        "    - Episode ends if lander crashes, flies out of bounds (|x| > 1), or \"falls asleep\" (stops moving)\n",
        "    - Success is defined as average score >= 200 over 100 episodes\n",
        "    \"\"\"\n",
        "    # Create environment in 'rgb_array' mode — returns frames as numpy arrays (no window popup).\n",
        "    # This is ideal for generating videos programmatically.\n",
        "    env = gym.make(env_name, render_mode='rgb_array')\n",
        "    \n",
        "    # Reset environment to initial state.\n",
        "    # Returns initial state (8D vector) and info dict (ignored with `_`).\n",
        "    state, _ = env.reset()\n",
        "    \n",
        "    # Flag to track episode termination.\n",
        "    done = False\n",
        "    \n",
        "    # List to store rendered frames for video creation.\n",
        "    frames = []\n",
        "    \n",
        "    # Step through environment until episode ends.\n",
        "    while not done:\n",
        "        # Capture current frame as numpy array (H x W x 3).\n",
        "        frame = env.render()\n",
        "        frames.append(frame)\n",
        "        \n",
        "        # Select action using trained agent (exploitation only — no epsilon-greedy).\n",
        "        # `agent.act(state)` should return a tensor or integer in [0, 3].\n",
        "        action = agent.act(state)\n",
        "        \n",
        "        # Execute action in environment.\n",
        "        # Returns:\n",
        "        #   next_state: 8D observation vector\n",
        "        #   reward:     Shaped reward (distance, velocity, angle, contact, fuel cost)\n",
        "        #   done:       True if episode terminated (crash, out-of-bounds, or asleep)\n",
        "        #   _:          Truncated flag (time limit — not used in LunarLander)\n",
        "        #   _:          Info dict (ignored)\n",
        "        # Note: `.item()` converts tensor action to scalar if needed.\n",
        "        state, reward, done, _, _ = env.step(action.item())\n",
        "    \n",
        "    # Close environment to free resources.\n",
        "    env.close()\n",
        "    \n",
        "    # Save frames as MP4 video at 30 FPS.\n",
        "    # File saved as 'video.mp4' in current directory.\n",
        "    imageio.mimsave('video.mp4', frames, fps=30)\n",
        "\n",
        "# Generate and save video of agent playing LunarLander-v3.\n",
        "show_video_of_model(agent, 'LunarLander-v3')\n",
        "\n",
        "def show_video():\n",
        "    \"\"\"\n",
        "    Displays the saved MP4 video inline in Jupyter/Colab notebook.\n",
        "    Uses HTML5 video tag with base64 encoding for compatibility.\n",
        "    \"\"\"\n",
        "    # Find all MP4 files in current directory.\n",
        "    mp4list = glob.glob('*.mp4')\n",
        "    \n",
        "    if len(mp4list) > 0:\n",
        "        # Take first MP4 file found.\n",
        "        mp4 = mp4list[0]\n",
        "        \n",
        "        # Read video file as binary.\n",
        "        video = io.open(mp4, 'r+b').read()\n",
        "        \n",
        "        # Encode as base64 string for embedding in HTML.\n",
        "        encoded = base64.b64encode(video)\n",
        "        \n",
        "        # Display video with HTML5 player (autoplay, loop, controls, fixed height).\n",
        "        display(HTML(data='''<video alt=\"test\" autoplay\n",
        "                loop controls style=\"height: 400px;\">\n",
        "                <source src=\"data:video/mp4;base64,{0}\" type=\"video/mp4\" />\n",
        "             </video>'''.format(encoded.decode('ascii'))))\n",
        "    else:\n",
        "        # Print error if no video found.\n",
        "        print(\"Could not find video\")\n",
        "\n",
        "# Display the recorded video inline.\n",
        "show_video()"
      ]
    }
  ],
  "metadata": {
    "colab": {
      "collapsed_sections": [
        "Y6oyyh0xzQ89",
        "aJznFhVY1SMG",
        "Yu6mhYmt1ya2",
        "SVbiTfYlK-X7"
      ],
      "provenance": []
    },
    "kernelspec": {
      "display_name": "Python 3",
      "name": "python3"
    },
    "language_info": {
      "name": "python"
    }
  },
  "nbformat": 4,
  "nbformat_minor": 0
}
